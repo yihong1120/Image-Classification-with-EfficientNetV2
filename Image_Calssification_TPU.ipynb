{
  "nbformat": 4,
  "nbformat_minor": 0,
  "metadata": {
    "colab": {
      "provenance": []
    },
    "kernelspec": {
      "name": "python3",
      "display_name": "Python 3"
    },
    "language_info": {
      "name": "python"
    },
    "accelerator": "TPU",
    "gpuClass": "standard"
  },
  "cells": [
    {
      "cell_type": "markdown",
      "source": [
        "To mount your Google Drive in Colab, you can use the following code snippet:\n",
        "\n",
        "```\n",
        "from google.colab import drive\n",
        "drive.mount('/content/drive')\n",
        "```\n",
        "\n",
        "This will prompt you to authorize Colab to access your Google Drive. Once you complete the authorization process, your Drive will be mounted at the specified path ('/content/drive' in this case). You can then access your Drive files using this path."
      ],
      "metadata": {
        "id": "Jw0qjWRqnziY"
      }
    },
    {
      "cell_type": "code",
      "source": [
        "from google.colab import drive\n",
        "drive.mount('/content/drive')"
      ],
      "metadata": {
        "colab": {
          "base_uri": "https://localhost:8080/"
        },
        "id": "xE4LYWwAlPhD",
        "outputId": "9e9df5a3-a587-4bab-a40f-9544f1a4ad1b"
      },
      "execution_count": 2,
      "outputs": [
        {
          "output_type": "stream",
          "name": "stdout",
          "text": [
            "Mounted at /content/drive\n"
          ]
        }
      ]
    },
    {
      "cell_type": "code",
      "source": [
        "import os\n",
        "import tensorflow as tf\n",
        "from tensorflow import keras\n",
        "from tensorflow.keras.applications.efficientnet_v2 import preprocess_input\n",
        "from tensorflow.keras.preprocessing.image import ImageDataGenerator\n",
        "\n",
        "# Load the EfficientNetV2 model\n",
        "resolver = tf.distribute.cluster_resolver.TPUClusterResolver(tpu='grpc://' + os.environ['COLAB_TPU_ADDR'])\n",
        "tf.config.experimental_connect_to_cluster(resolver)\n",
        "tf.tpu.experimental.initialize_tpu_system(resolver)\n",
        "strategy = tf.distribute.TPUStrategy(resolver)\n",
        "\n",
        "with strategy.scope():\n",
        "    model = tf.keras.applications.efficientnet_v2.EfficientNetV2S(\n",
        "        include_top=True,\n",
        "        weights='imagenet',\n",
        "        input_tensor=None,\n",
        "        input_shape=None,\n",
        "        pooling=None,\n",
        "        classes=1000,\n",
        "        classifier_activation='softmax',\n",
        "        include_preprocessing=True\n",
        "    )\n",
        "\n",
        "# Set the data directory path\n",
        "data_dir = '/content/drive/My Drive/Side_Projects/Image_Classification/dataset/'\n",
        "\n",
        "# Create an ImageDataGenerator for data augmentation and preprocessing\n",
        "train_datagen = ImageDataGenerator(\n",
        "    preprocessing_function=preprocess_input,\n",
        "    rescale=1./255, # Rescale pixel values between 0 and 1\n",
        "    rotation_range=20, # Rotate images randomly within 20 degrees\n",
        "    width_shift_range=0.2, # Randomly shift images horizontally within 20% of the image width\n",
        "    height_shift_range=0.2, # Randomly shift images vertically within 20% of the image height\n",
        "    shear_range=0.2, # Randomly apply shearing transformations within 20 degrees\n",
        "    zoom_range=0.2, # Randomly zoom in on images within 20% of the original size\n",
        "    horizontal_flip=True, # Flip images horizontally\n",
        "    fill_mode='nearest', # Fill missing pixels with nearest pixel values\n",
        "    validation_split=0.2 # Split 20% of data as validation set\n",
        ")\n",
        "\n",
        "test_datagen = ImageDataGenerator(\n",
        "    preprocessing_function=preprocess_input\n",
        ")\n",
        "\n",
        "# Use flow_from_directory function to create training and testing datasets\n",
        "train_dataset = train_datagen.flow_from_directory(\n",
        "    data_dir,\n",
        "    target_size=(224, 224),\n",
        "    batch_size=16,\n",
        "    class_mode='categorical',\n",
        "    subset='training' # Specify as training set\n",
        ")\n",
        "\n",
        "val_dataset = train_datagen.flow_from_directory(\n",
        "    data_dir,\n",
        "    target_size=(224, 224),\n",
        "    batch_size=16,\n",
        "    class_mode='categorical',\n",
        "    subset='validation' # Specify as validation set\n",
        ")\n",
        "\n",
        "test_dataset = test_datagen.flow_from_directory(\n",
        "    data_dir,\n",
        "    target_size=(224, 224),\n",
        "    batch_size=16,\n",
        "    class_mode='categorical',\n",
        "    shuffle=False # Do not shuffle, for evaluation purpose\n",
        ")\n",
        "\n",
        "# Compile the model\n",
        "with strategy.scope():\n",
        "    model.compile(optimizer='adam', loss='categorical_crossentropy', metrics=['accuracy'])\n",
        "\n",
        "# Train the model\n",
        "with strategy.scope():\n",
        "    model.fit(train_dataset, epochs=10, validation_data=val_dataset)\n",
        "\n",
        "# Save the model\n",
        "model.save('/content/drive/My Drive/Side_Projects/Image_Classification/efficientnetv2.h5')\n",
        "\n",
        "# Evaluate the model on the test dataset\n",
        "with strategy.scope():\n",
        "    loss, accuracy = model.evaluate(test_dataset)\n",
        "print('Test accuracy:', accuracy)\n"
      ],
      "metadata": {
        "id": "uapLao2qZ8gg"
      },
      "execution_count": null,
      "outputs": []
    },
    {
      "cell_type": "code",
      "source": [
        "from tensorflow import keras\n",
        "\n",
        "# Load the saved model for prediction\n",
        "loaded_model = keras.models.load_model('/content/drive/My Drive/Side_Projects/Image_Classification/efficientnetv2.h5')\n",
        "\n",
        "# Predict an image using the loaded model\n",
        "img_path = '/content/drive/My Drive/Side_Projects/Image_Classification/dataset/rain/35.jpg'\n",
        "img = keras.preprocessing.image.load_img(img_path, target_size=(224, 224))\n",
        "img_array = keras.preprocessing.image.img_to_array(img)\n",
        "img_array = tf.expand_dims(img_array, 0) # Create a batch\n",
        "prediction = loaded_model.predict(img_array)\n",
        "predicted_class = keras.applications.imagenet_utils.decode_predictions(prediction, top=1)[0][0][1]\n",
        "print('Predicted class:', predicted_class)"
      ],
      "metadata": {
        "id": "NFmZTeUxoLUC"
      },
      "execution_count": null,
      "outputs": []
    }
  ]
}